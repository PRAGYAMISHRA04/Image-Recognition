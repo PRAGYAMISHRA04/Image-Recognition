{
 "cells": [
  {
   "cell_type": "code",
   "execution_count": 1,
   "id": "f2e2a1d9",
   "metadata": {},
   "outputs": [],
   "source": [
    "import numpy as np\n",
    "import matplotlib.pyplot as plt\n",
    "import os\n",
    "import cv2\n",
    "import tensorflow.keras as tf\n",
    "import tensorflowjs as tfjs"
   ]
  },
  {
   "cell_type": "code",
   "execution_count": 2,
   "id": "c46d1bbc",
   "metadata": {},
   "outputs": [],
   "source": [
    "def read_and_preprocess(img_path):\n",
    "    img = cv2.imread(img_path, 0)\n",
    "    img = np.array(img, dtype='float32') \n",
    "    img = cv2.resize(img,(28,28))\n",
    "    img = img.reshape(28,28,1)\n",
    "    img = img/255\n",
    "    return img"
   ]
  },
  {
   "cell_type": "code",
   "execution_count": 3,
   "id": "02baf284",
   "metadata": {},
   "outputs": [],
   "source": [
    "im=cv2.imread('Train/character_10_yna/10542.png',0)\n",
    "im = cv2.resize(im,(28,28))\n",
    "#plt.imshow(im)"
   ]
  },
  {
   "cell_type": "code",
   "execution_count": 4,
   "id": "3d21d5b9",
   "metadata": {},
   "outputs": [],
   "source": [
    "im=im.reshape(28,28,1)"
   ]
  },
  {
   "cell_type": "code",
   "execution_count": 5,
   "id": "501cbe1c",
   "metadata": {},
   "outputs": [],
   "source": [
    "train_path=\"Train/\"\n",
    "X_train=[]\n",
    "y_train=[]\n",
    "for folder in os.scandir(train_path):\n",
    "    for entry in os.scandir(train_path+folder.name):\n",
    "        X_train.append(read_and_preprocess(train_path + folder.name + '/' + entry.name))\n",
    "        y_train.append(folder.name)"
   ]
  },
  {
   "cell_type": "code",
   "execution_count": 6,
   "id": "5a88951c",
   "metadata": {},
   "outputs": [],
   "source": [
    "from sklearn.preprocessing import LabelEncoder\n",
    "LE=LabelEncoder()\n",
    "y_train=LE.fit_transform(np.array(y_train))"
   ]
  },
  {
   "cell_type": "code",
   "execution_count": 7,
   "id": "f9bdc2b3",
   "metadata": {},
   "outputs": [
    {
     "data": {
      "text/plain": [
       "array(['character_10_yna', 'character_11_taamatar', 'character_12_thaa',\n",
       "       'character_13_daa', 'character_14_dhaa', 'character_15_adna',\n",
       "       'character_16_tabala', 'character_17_tha', 'character_18_da',\n",
       "       'character_19_dha', 'character_1_ka', 'character_20_na',\n",
       "       'character_21_pa', 'character_22_pha', 'character_23_ba',\n",
       "       'character_24_bha', 'character_25_ma', 'character_26_yaw',\n",
       "       'character_27_ra', 'character_28_la', 'character_29_waw',\n",
       "       'character_2_kha', 'character_30_motosaw',\n",
       "       'character_31_petchiryakha', 'character_32_patalosaw',\n",
       "       'character_33_ha', 'character_34_chhya', 'character_35_tra',\n",
       "       'character_36_gya', 'character_3_ga', 'character_4_gha',\n",
       "       'character_5_kna', 'character_6_cha', 'character_7_chha',\n",
       "       'character_8_ja', 'character_9_jha', 'digit_0', 'digit_1',\n",
       "       'digit_2', 'digit_3', 'digit_4', 'digit_5', 'digit_6', 'digit_7',\n",
       "       'digit_8', 'digit_9'], dtype='<U25')"
      ]
     },
     "execution_count": 7,
     "metadata": {},
     "output_type": "execute_result"
    }
   ],
   "source": [
    "LE.inverse_transform(np.unique(y_train))"
   ]
  },
  {
   "cell_type": "code",
   "execution_count": 8,
   "id": "963c9c2a",
   "metadata": {},
   "outputs": [
    {
     "data": {
      "text/plain": [
       "{0: 'character_10_yna',\n",
       " 1: 'character_11_taamatar',\n",
       " 2: 'character_12_thaa',\n",
       " 3: 'character_13_daa',\n",
       " 4: 'character_14_dhaa',\n",
       " 5: 'character_15_adna',\n",
       " 6: 'character_16_tabala',\n",
       " 7: 'character_17_tha',\n",
       " 8: 'character_18_da',\n",
       " 9: 'character_19_dha',\n",
       " 10: 'character_1_ka',\n",
       " 11: 'character_20_na',\n",
       " 12: 'character_21_pa',\n",
       " 13: 'character_22_pha',\n",
       " 14: 'character_23_ba',\n",
       " 15: 'character_24_bha',\n",
       " 16: 'character_25_ma',\n",
       " 17: 'character_26_yaw',\n",
       " 18: 'character_27_ra',\n",
       " 19: 'character_28_la',\n",
       " 20: 'character_29_waw',\n",
       " 21: 'character_2_kha',\n",
       " 22: 'character_30_motosaw',\n",
       " 23: 'character_31_petchiryakha',\n",
       " 24: 'character_32_patalosaw',\n",
       " 25: 'character_33_ha',\n",
       " 26: 'character_34_chhya',\n",
       " 27: 'character_35_tra',\n",
       " 28: 'character_36_gya',\n",
       " 29: 'character_3_ga',\n",
       " 30: 'character_4_gha',\n",
       " 31: 'character_5_kna',\n",
       " 32: 'character_6_cha',\n",
       " 33: 'character_7_chha',\n",
       " 34: 'character_8_ja',\n",
       " 35: 'character_9_jha',\n",
       " 36: 'digit_0',\n",
       " 37: 'digit_1',\n",
       " 38: 'digit_2',\n",
       " 39: 'digit_3',\n",
       " 40: 'digit_4',\n",
       " 41: 'digit_5',\n",
       " 42: 'digit_6',\n",
       " 43: 'digit_7',\n",
       " 44: 'digit_8',\n",
       " 45: 'digit_9'}"
      ]
     },
     "execution_count": 8,
     "metadata": {},
     "output_type": "execute_result"
    }
   ],
   "source": [
    "LABEL={}\n",
    "array=LE.inverse_transform(np.unique(y_train))\n",
    "for i in range(46):\n",
    "    LABEL[i]=array[i]\n",
    "LABEL"
   ]
  },
  {
   "cell_type": "code",
   "execution_count": 9,
   "id": "bed1ff42",
   "metadata": {},
   "outputs": [],
   "source": [
    "import random\n",
    "mapp=list(zip(X_train,y_train))\n",
    "random.shuffle(mapp)\n",
    "X_train,y_train=zip(*mapp)"
   ]
  },
  {
   "cell_type": "code",
   "execution_count": 10,
   "id": "87b9e01b",
   "metadata": {},
   "outputs": [],
   "source": [
    "X_train=list(X_train)\n",
    "y_train=list(y_train)"
   ]
  },
  {
   "cell_type": "code",
   "execution_count": 11,
   "id": "b4e4d994",
   "metadata": {},
   "outputs": [
    {
     "data": {
      "text/plain": [
       "78200"
      ]
     },
     "execution_count": 11,
     "metadata": {},
     "output_type": "execute_result"
    }
   ],
   "source": [
    "len(X_train)"
   ]
  },
  {
   "cell_type": "code",
   "execution_count": 12,
   "id": "20d195a6",
   "metadata": {},
   "outputs": [],
   "source": [
    "X_val=X_train[0:11730]\n",
    "X_train=X_train[11730:]\n",
    "y_val=y_train[0:11730]\n",
    "y_train=y_train[11730:]"
   ]
  },
  {
   "cell_type": "code",
   "execution_count": 13,
   "id": "2a98f3e5",
   "metadata": {},
   "outputs": [
    {
     "data": {
      "text/plain": [
       "(66470,)"
      ]
     },
     "execution_count": 13,
     "metadata": {},
     "output_type": "execute_result"
    }
   ],
   "source": [
    "X_train=np.array(X_train)\n",
    "y_train=np.array(y_train)\n",
    "X_train.shape\n",
    "y_train.shape"
   ]
  },
  {
   "cell_type": "code",
   "execution_count": 14,
   "id": "13ed8351",
   "metadata": {},
   "outputs": [
    {
     "data": {
      "text/plain": [
       "array([35, 31, 17, 35, 45], dtype=int64)"
      ]
     },
     "execution_count": 14,
     "metadata": {},
     "output_type": "execute_result"
    }
   ],
   "source": [
    "X_val=np.array(X_val)\n",
    "y_val=np.array(y_val)\n",
    "y_val[0:5]"
   ]
  },
  {
   "cell_type": "markdown",
   "id": "8b76bc72",
   "metadata": {},
   "source": [
    "\n",
    "### Convolution 1. Input = 28x28x3.   Output = 24x24x64 \n",
    "\n",
    "### Max Pool 1.    Input = 24x24x64   Output = 12x12x64\n",
    "\n",
    "### Convolution 2. Input = 12x12x64   Output = 10x10x128\n",
    "\n",
    "### Max Pool 2.    Input = 10x10x128. Output = 5x5x128\n",
    "\n",
    "### Dropout          Input = 5x5x128.   Output = 5x5x128\n",
    "\n",
    "### Fully Connected 1. Output = 3200\n",
    "\n",
    "### Fully Connected 2. Output = 1024\n",
    "\n",
    "### Fully Connected 3. Output = 128\n",
    "\n",
    "### Fully Connected 4. Output = 46\n"
   ]
  },
  {
   "cell_type": "code",
   "execution_count": 15,
   "id": "79b1be70",
   "metadata": {},
   "outputs": [],
   "source": [
    "model = tf.Sequential()\n",
    "model.add(tf.layers.Conv2D(filters=64, kernel_size=(5, 5), activation='relu', input_shape=(28,28,1), name=\"Convolution-1\"))\n",
    "model.add(tf.layers.MaxPooling2D((2,2),name=\"Pool-1\"))\n",
    "model.add(tf.layers.Conv2D(filters=128, kernel_size=(3, 3), activation='relu', name=\"Convolution-2\"))\n",
    "model.add(tf.layers.MaxPooling2D((2,2), name=\"Pool-2\"))\n",
    "model.add(tf.layers.Dropout(0.2))\n",
    "model.add(tf.layers.Flatten())\n",
    "model.add(tf.layers.Dense(units=1024, activation='relu', name=\"Dense-1\"))\n",
    "model.add(tf.layers.Dense(units=128, activation='relu', name=\"Dense-2\"))\n",
    "model.add(tf.layers.Dense(units=46, activation = 'softmax', name=\"Output\"))"
   ]
  },
  {
   "cell_type": "code",
   "execution_count": 16,
   "id": "5048a2e0",
   "metadata": {},
   "outputs": [
    {
     "name": "stdout",
     "output_type": "stream",
     "text": [
      "Epoch 1/10\n",
      "665/665 [==============================] - 79s 118ms/step - loss: 0.5726 - accuracy: 0.8381 - val_loss: 0.2039 - val_accuracy: 0.9395\n",
      "Epoch 2/10\n",
      "665/665 [==============================] - 76s 114ms/step - loss: 0.1264 - accuracy: 0.9607 - val_loss: 0.1174 - val_accuracy: 0.9639\n",
      "Epoch 3/10\n",
      "665/665 [==============================] - 77s 115ms/step - loss: 0.0744 - accuracy: 0.9760 - val_loss: 0.0880 - val_accuracy: 0.9737\n",
      "Epoch 4/10\n",
      "665/665 [==============================] - 76s 114ms/step - loss: 0.0496 - accuracy: 0.9845 - val_loss: 0.0983 - val_accuracy: 0.9719\n",
      "Epoch 5/10\n",
      "665/665 [==============================] - 77s 116ms/step - loss: 0.0408 - accuracy: 0.9871 - val_loss: 0.0942 - val_accuracy: 0.9731\n",
      "Epoch 6/10\n",
      "665/665 [==============================] - 77s 116ms/step - loss: 0.0320 - accuracy: 0.9895 - val_loss: 0.0833 - val_accuracy: 0.9777\n",
      "Epoch 7/10\n",
      "665/665 [==============================] - 77s 115ms/step - loss: 0.0290 - accuracy: 0.9905 - val_loss: 0.0770 - val_accuracy: 0.9800\n",
      "Epoch 8/10\n",
      "665/665 [==============================] - 74s 111ms/step - loss: 0.0248 - accuracy: 0.9924 - val_loss: 0.0735 - val_accuracy: 0.9818\n",
      "Epoch 9/10\n",
      "665/665 [==============================] - 76s 115ms/step - loss: 0.0243 - accuracy: 0.9921 - val_loss: 0.0913 - val_accuracy: 0.9785s - loss: 0.0241 - \n",
      "Epoch 10/10\n",
      "665/665 [==============================] - 75s 113ms/step - loss: 0.0204 - accuracy: 0.9938 - val_loss: 0.0812 - val_accuracy: 0.9783\n"
     ]
    },
    {
     "data": {
      "text/plain": [
       "<keras.callbacks.History at 0x17497675cf8>"
      ]
     },
     "execution_count": 16,
     "metadata": {},
     "output_type": "execute_result"
    }
   ],
   "source": [
    "model.compile(optimizer='adam', loss='sparse_categorical_crossentropy', metrics=['accuracy'])\n",
    "model.fit(X_train, y_train, epochs=10, batch_size=100, validation_data=(X_val,y_val))"
   ]
  },
  {
   "cell_type": "code",
   "execution_count": 17,
   "id": "2501acc7",
   "metadata": {},
   "outputs": [
    {
     "name": "stdout",
     "output_type": "stream",
     "text": [
      "Model: \"sequential\"\n",
      "_________________________________________________________________\n",
      "Layer (type)                 Output Shape              Param #   \n",
      "=================================================================\n",
      "Convolution-1 (Conv2D)       (None, 24, 24, 64)        1664      \n",
      "_________________________________________________________________\n",
      "Pool-1 (MaxPooling2D)        (None, 12, 12, 64)        0         \n",
      "_________________________________________________________________\n",
      "Convolution-2 (Conv2D)       (None, 10, 10, 128)       73856     \n",
      "_________________________________________________________________\n",
      "Pool-2 (MaxPooling2D)        (None, 5, 5, 128)         0         \n",
      "_________________________________________________________________\n",
      "dropout (Dropout)            (None, 5, 5, 128)         0         \n",
      "_________________________________________________________________\n",
      "flatten (Flatten)            (None, 3200)              0         \n",
      "_________________________________________________________________\n",
      "Dense-1 (Dense)              (None, 1024)              3277824   \n",
      "_________________________________________________________________\n",
      "Dense-2 (Dense)              (None, 128)               131200    \n",
      "_________________________________________________________________\n",
      "Output (Dense)               (None, 46)                5934      \n",
      "=================================================================\n",
      "Total params: 3,490,478\n",
      "Trainable params: 3,490,478\n",
      "Non-trainable params: 0\n",
      "_________________________________________________________________\n"
     ]
    }
   ],
   "source": [
    "model.summary()"
   ]
  },
  {
   "cell_type": "code",
   "execution_count": 18,
   "id": "07841b24",
   "metadata": {},
   "outputs": [],
   "source": [
    "test_path=\"Test/\"\n",
    "X_test=[]\n",
    "y_test=[]\n",
    "for folder in os.scandir(test_path):\n",
    "    for entry in os.scandir(test_path+folder.name):\n",
    "        X_test.append(read_and_preprocess(test_path + folder.name + '/' + entry.name))\n",
    "        y_test.append(folder.name)"
   ]
  },
  {
   "cell_type": "code",
   "execution_count": 19,
   "id": "15fdc194",
   "metadata": {},
   "outputs": [],
   "source": [
    "import random\n",
    "mapp=list(zip(X_test,y_test))\n",
    "random.shuffle(mapp)\n",
    "X_test,y_test=zip(*mapp)"
   ]
  },
  {
   "cell_type": "code",
   "execution_count": 20,
   "id": "381c8125",
   "metadata": {},
   "outputs": [
    {
     "data": {
      "text/plain": [
       "(13800,)"
      ]
     },
     "execution_count": 20,
     "metadata": {},
     "output_type": "execute_result"
    }
   ],
   "source": [
    "X_test=np.array(X_test)\n",
    "y_test=np.array(y_test)\n",
    "X_test.shape\n",
    "y_test.shape"
   ]
  },
  {
   "cell_type": "code",
   "execution_count": 21,
   "id": "40b870d7",
   "metadata": {},
   "outputs": [],
   "source": [
    "y_test=LE.transform(y_test)\n",
    "y_test=y_test.reshape((-1,1))"
   ]
  },
  {
   "cell_type": "code",
   "execution_count": 22,
   "id": "708c1263",
   "metadata": {},
   "outputs": [
    {
     "name": "stdout",
     "output_type": "stream",
     "text": [
      "432/432 [==============================] - 5s 12ms/step - loss: 0.0792 - accuracy: 0.9801\n"
     ]
    },
    {
     "data": {
      "text/plain": [
       "[0.07921891659498215, 0.9801449179649353]"
      ]
     },
     "execution_count": 22,
     "metadata": {},
     "output_type": "execute_result"
    }
   ],
   "source": [
    "model.evaluate(X_test,y_test)"
   ]
  },
  {
   "cell_type": "code",
   "execution_count": 24,
   "id": "c9e59c9e",
   "metadata": {},
   "outputs": [],
   "source": [
    "tfjs.converters.save_keras_model(model, \"finalmodel/Hindi.h5\")"
   ]
  },
  {
   "cell_type": "code",
   "execution_count": 25,
   "id": "2f71b1f7",
   "metadata": {},
   "outputs": [
    {
     "data": {
      "text/plain": [
       "(13800, 28, 28, 1)"
      ]
     },
     "execution_count": 25,
     "metadata": {},
     "output_type": "execute_result"
    }
   ],
   "source": [
    "X_test.shape"
   ]
  },
  {
   "cell_type": "code",
   "execution_count": 35,
   "id": "306769d9",
   "metadata": {},
   "outputs": [
    {
     "name": "stdout",
     "output_type": "stream",
     "text": [
      "['character_32_patalosaw']\n"
     ]
    },
    {
     "data": {
      "image/png": "[encoded data removed]",
      "text/plain": [
       "<Figure size 432x288 with 1 Axes>"
      ]
     },
     "metadata": {
      "needs_background": "light"
     },
     "output_type": "display_data"
    }
   ],
   "source": [
    "plt.imshow(X_test[0])\n",
    "print(LE.inverse_transform(y_test[0]))"
   ]
  },
  {
   "cell_type": "code",
   "execution_count": 48,
   "id": "ae9d17aa",
   "metadata": {},
   "outputs": [],
   "source": [
    "output=model(np.expand_dims(np.array(read_and_preprocess('2.jpeg')),axis=0))"
   ]
  },
  {
   "cell_type": "code",
   "execution_count": null,
   "id": "882e0b52",
   "metadata": {},
   "outputs": [],
   "source": []
  },
  {
   "cell_type": "code",
   "execution_count": 49,
   "id": "69342b88",
   "metadata": {},
   "outputs": [],
   "source": [
    "OUT={}\n",
    "for i in range(46):\n",
    "    OUT[i+1]=np.array(output).reshape(46,1)[i]"
   ]
  },
  {
   "cell_type": "code",
   "execution_count": 50,
   "id": "a62a5b09",
   "metadata": {},
   "outputs": [
    {
     "data": {
      "text/plain": [
       "{1: array([1.5722904e-05], dtype=float32),\n",
       " 2: array([9.739637e-05], dtype=float32),\n",
       " 3: array([0.0004797], dtype=float32),\n",
       " 4: array([0.00021654], dtype=float32),\n",
       " 5: array([1.8597872e-05], dtype=float32),\n",
       " 6: array([0.00012581], dtype=float32),\n",
       " 7: array([4.0244067e-05], dtype=float32),\n",
       " 8: array([0.0069521], dtype=float32),\n",
       " 9: array([2.805973e-05], dtype=float32),\n",
       " 10: array([0.0002885], dtype=float32),\n",
       " 11: array([0.01413947], dtype=float32),\n",
       " 12: array([0.00124843], dtype=float32),\n",
       " 13: array([0.00016234], dtype=float32),\n",
       " 14: array([0.00144078], dtype=float32),\n",
       " 15: array([0.43280342], dtype=float32),\n",
       " 16: array([0.097803], dtype=float32),\n",
       " 17: array([0.0002769], dtype=float32),\n",
       " 18: array([0.00266376], dtype=float32),\n",
       " 19: array([0.00072037], dtype=float32),\n",
       " 20: array([0.00081306], dtype=float32),\n",
       " 21: array([0.00035855], dtype=float32),\n",
       " 22: array([0.01386688], dtype=float32),\n",
       " 23: array([3.9512866e-05], dtype=float32),\n",
       " 24: array([0.2701452], dtype=float32),\n",
       " 25: array([0.00072665], dtype=float32),\n",
       " 26: array([4.2477965e-05], dtype=float32),\n",
       " 27: array([0.02250052], dtype=float32),\n",
       " 28: array([0.0001177], dtype=float32),\n",
       " 29: array([5.428581e-05], dtype=float32),\n",
       " 30: array([2.9948209e-05], dtype=float32),\n",
       " 31: array([0.00135795], dtype=float32),\n",
       " 32: array([0.0003102], dtype=float32),\n",
       " 33: array([5.4588894e-05], dtype=float32),\n",
       " 34: array([0.00106427], dtype=float32),\n",
       " 35: array([0.00031177], dtype=float32),\n",
       " 36: array([0.04846348], dtype=float32),\n",
       " 37: array([3.7663296e-05], dtype=float32),\n",
       " 38: array([0.00051998], dtype=float32),\n",
       " 39: array([0.00504266], dtype=float32),\n",
       " 40: array([0.01980687], dtype=float32),\n",
       " 41: array([0.02058521], dtype=float32),\n",
       " 42: array([0.00079448], dtype=float32),\n",
       " 43: array([0.01887955], dtype=float32),\n",
       " 44: array([0.01195638], dtype=float32),\n",
       " 45: array([0.00015129], dtype=float32),\n",
       " 46: array([0.00244767], dtype=float32)}"
      ]
     },
     "execution_count": 50,
     "metadata": {},
     "output_type": "execute_result"
    }
   ],
   "source": [
    "OUT"
   ]
  },
  {
   "cell_type": "code",
   "execution_count": 51,
   "id": "4a1b4f14",
   "metadata": {},
   "outputs": [],
   "source": [
    "kmax=max(zip(OUT.values(), OUT.keys()))[1]"
   ]
  },
  {
   "cell_type": "code",
   "execution_count": 52,
   "id": "d7738e09",
   "metadata": {},
   "outputs": [
    {
     "data": {
      "text/plain": [
       "15"
      ]
     },
     "execution_count": 52,
     "metadata": {},
     "output_type": "execute_result"
    }
   ],
   "source": [
    "kmax"
   ]
  },
  {
   "cell_type": "code",
   "execution_count": 53,
   "id": "6629a45a",
   "metadata": {},
   "outputs": [
    {
     "data": {
      "text/plain": [
       "array(['character_24_bha'], dtype='<U25')"
      ]
     },
     "execution_count": 53,
     "metadata": {},
     "output_type": "execute_result"
    }
   ],
   "source": [
    "LE.inverse_transform(np.array([kmax]))"
   ]
  },
  {
   "cell_type": "code",
   "execution_count": null,
   "id": "43c36bf3",
   "metadata": {},
   "outputs": [],
   "source": []
  }
 ],
 "metadata": {
  "kernelspec": {
   "display_name": "Python 3",
   "language": "python",
   "name": "python3"
  },
  "language_info": {
   "codemirror_mode": {
    "name": "ipython",
    "version": 3
   },
   "file_extension": ".py",
   "mimetype": "text/x-python",
   "name": "python",
   "nbconvert_exporter": "python",
   "pygments_lexer": "ipython3",
   "version": "3.6.13"
  }
 },
 "nbformat": 4,
 "nbformat_minor": 5
}
